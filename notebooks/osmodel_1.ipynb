{
 "cells": [
  {
   "cell_type": "markdown",
   "metadata": {},
   "source": [
    "# Oblate fast-rotating star model example\n",
    "\n",
    "This notebook shows how to use the gravity-darkened `OblateStarModel`."
   ]
  },
  {
   "cell_type": "code",
   "execution_count": 1,
   "metadata": {},
   "outputs": [
    {
     "name": "stdout",
     "output_type": "stream",
     "text": [
      "%pylab is deprecated, use %matplotlib inline and import the required libraries.\n",
      "Populating the interactive namespace from numpy and matplotlib\n"
     ]
    }
   ],
   "source": [
    "%pylab inline"
   ]
  },
  {
   "cell_type": "code",
   "execution_count": 3,
   "metadata": {},
   "outputs": [],
   "source": [
    "from pytransit import OblateStarModel\n",
    "from pytransit.contamination.filter import TabulatedFilter\n",
    "\n",
    "from ldtk.filters import SVOFilter"
   ]
  },
  {
   "cell_type": "markdown",
   "metadata": {},
   "source": [
    "## Oblate Star Model\n",
    "\n",
    "The oblate star model is initialised with:\n",
    "- filters: Either the effective wavelength [nm], a Filter object, or a list of Filter objects.\n",
    "- rstar (optional): Stellar radius [R_Sun]\n",
    "- sres (optional): Stellar discretization resolution.\n",
    "- pres (optional): Planet discretization resolution.\n",
    "- tres (optional): Orbit discretization resolution.\n",
    "- model (optional): the stellar model to use. Can be either 'blackbody', 'husser2013', or 'bt-settl'.\n",
    "- tmin (optional, default = 5000 K):  Minimum allowed temperature [K].\n",
    "- tmax (optional, default = 7000 K): Maximum allowed temperature [K].\n",
    "\n",
    "\n",
    "Like all PyTransit transit models, the `OblateStarModel` can be used to model different passbands simultaneously. Unlike the others, though, it needs to be given a transmission function (`pytransit.contamination.filter.Filter`) for each passband. Here is a quick hack how to create a CHEOPS transmission function using LDTk."
   ]
  },
  {
   "cell_type": "code",
   "execution_count": 4,
   "metadata": {},
   "outputs": [],
   "source": [
    "f = SVOFilter('CHEOPS/CHEOPS.band')\n",
    "filters = [TabulatedFilter('CHEOPS', f.wavelength, f.transmission)]"
   ]
  },
  {
   "cell_type": "code",
   "execution_count": 5,
   "metadata": {},
   "outputs": [],
   "source": [
    "tm = OblateStarModel(filters, sres=100, pres=8, rstar=1.65, model='husser2013', tmax=12_000)"
   ]
  },
  {
   "cell_type": "code",
   "execution_count": 6,
   "metadata": {},
   "outputs": [],
   "source": [
    "times = linspace(-0.35, 0.35, 500)\n",
    "tm.set_data(times)"
   ]
  },
  {
   "cell_type": "code",
   "execution_count": 7,
   "metadata": {},
   "outputs": [],
   "source": [
    "k = array([0.1])\n",
    "t0, p, a, i, az, e, w = 0.0, 4.0, 4.5, 0.5*pi, 0.0, 0.0, 0.0\n",
    "rho, rperiod, tpole, phi, beta = 1.4, 0.25, 6500., -0.2*pi, 0.3\n",
    "ldc = array([0.3, 0.1]) # Quadtratic limb darkening coefficients"
   ]
  },
  {
   "cell_type": "code",
   "execution_count": 8,
   "metadata": {},
   "outputs": [],
   "source": [
    "rperiod = 1\n",
    "flux = tm.evaluate_ps(k, rho, rperiod, tpole, phi, beta, ldc, t0, p, a, i, az, e, w)"
   ]
  },
  {
   "cell_type": "code",
   "execution_count": 9,
   "metadata": {},
   "outputs": [
    {
     "data": {
      "text/plain": [
       "[<matplotlib.lines.Line2D at 0x7dd6bc3201a0>]"
      ]
     },
     "execution_count": 9,
     "metadata": {},
     "output_type": "execute_result"
    },
    {
     "data": {
      "image/png": "[encoded data removed]",
      "text/plain": [
       "<Figure size 640x480 with 1 Axes>"
      ]
     },
     "metadata": {},
     "output_type": "display_data"
    }
   ],
   "source": [
    "plot(flux)"
   ]
  },
  {
   "cell_type": "code",
   "execution_count": null,
   "metadata": {},
   "outputs": [],
   "source": [
    "b = 0.35\n",
    "rperiod = 0.25\n",
    "tpole = 10_000\n",
    "\n",
    "fig, axs = subplots(6, 3, figsize=(13,18), gridspec_kw=dict(height_ratios=(0.8, 0.2, 0.8, 0.2, 0.8, 0.2)))\n",
    "for ix, az in enumerate((0, 0.25*pi, 0.5*pi)):\n",
    "    for jx, istar in enumerate((0, 0.25*pi, 0.5*pi)): \n",
    "        tm.visualize(0.1, p, rho, b, e, w, az, rperiod, tpole, istar, beta, ldc, ntheta=25, ax=axs[ix*2, jx])\n",
    "        flux = tm.evaluate_ps(k, rho, rperiod, tpole, phi, beta, ldc, t0, p, a, i, az, e, w)\n",
    "        axs[ix*2+1, jx].plot(flux)\n",
    "setp(axs[::2,:], aspect=1)\n",
    "fig.tight_layout()"
   ]
  },
  {
   "cell_type": "markdown",
   "metadata": {},
   "source": [
    "---\n",
    "\n",
    "<center>©2024 Hannu Parviainen</center>"
   ]
  }
 ],
 "metadata": {
  "kernelspec": {
   "display_name": "Python 3 (ipykernel)",
   "language": "python",
   "name": "python3"
  },
  "language_info": {
   "codemirror_mode": {
    "name": "ipython",
    "version": 3
   },
   "file_extension": ".py",
   "mimetype": "text/x-python",
   "name": "python",
   "nbconvert_exporter": "python",
   "pygments_lexer": "ipython3",
   "version": "3.12.4"
  },
  "latex_envs": {
   "LaTeX_envs_menu_present": true,
   "autoclose": false,
   "autocomplete": true,
   "bibliofile": "biblio.bib",
   "cite_by": "apalike",
   "current_citInitial": 1,
   "eqLabelWithNumbers": true,
   "eqNumInitial": 1,
   "hotkeys": {
    "equation": "Ctrl-E",
    "itemize": "Ctrl-I"
   },
   "labels_anchors": false,
   "latex_user_defs": false,
   "report_style_numbering": false,
   "user_envs_cfg": false
  }
 },
 "nbformat": 4,
 "nbformat_minor": 4
}
